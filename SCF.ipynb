{
  "nbformat": 4,
  "nbformat_minor": 0,
  "metadata": {
    "colab": {
      "name": "SCF.ipynb",
      "provenance": [],
      "collapsed_sections": []
    },
    "kernelspec": {
      "name": "python3",
      "display_name": "Python 3"
    }
  },
  "cells": [
    {
      "cell_type": "code",
      "metadata": {
        "id": "T0yVWIRkl2Zg"
      },
      "source": [
        "import numpy as np"
      ],
      "execution_count": 1,
      "outputs": []
    },
    {
      "cell_type": "code",
      "metadata": {
        "id": "EQUklCk2S8Rh"
      },
      "source": [
        "class SCFSolver:\r\n",
        "    '''\r\n",
        "    Reference: A.Szabo, N.S.Ostlund\r\n",
        "    https://www.amazon.co.jp/-/en/Attila-Szabo/dp/4130621114/ref=pd_lpo_14_t_0/357-6877730-3564413?_encoding=UTF8&pd_rd_i=4130621114&pd_rd_r=21208b56-0531-4686-a004-b21b0d615dbe&pd_rd_w=r2Xpu&pd_rd_wg=oGSC6&pf_rd_p=cb2cef9d-b0a3-4b58-a575-45abfc5e07e8&pf_rd_r=3C5KDGNZX2WMMXDKWT0T&psc=1&refRID=3C5KDGNZX2WMMXDKWT0T\r\n",
        "    '''\r\n",
        "    def __init__(self, Hcore: np.array, S: np.array, two_elec_integral: np.array, num_elec: int, num_AO: int):\r\n",
        "        '''\r\n",
        "        parameter Hcore: Hamiltonial Matrix\r\n",
        "        parameter S: Overlap Integral Matrix\r\n",
        "        parameter two_elec_integral: 2 Electron Integral Matrix\r\n",
        "        parameter num_elec: Number of Electrons\r\n",
        "        parameter num_AO: Number of Atomic Orbitals\r\n",
        "        '''\r\n",
        "        self.Hcore = Hcore\r\n",
        "        self.S = S\r\n",
        "        self.two_elec_integral = two_elec_integral\r\n",
        "        self.num_elec = num_elec\r\n",
        "        self.num_AO = num_AO\r\n",
        "        assert self.Hcore.shape == self.S.shape\r\n",
        "\r\n",
        "    def compute_transformation_matrix(self, mode='canonical'):\r\n",
        "        '''\r\n",
        "        parameter mode should be 'canonical' or 'symmetric'\r\n",
        "        return: regular matrix\r\n",
        "        '''\r\n",
        "        X = np.zeros(self.S.shape)\r\n",
        "        \r\n",
        "        #固有値の配列、固有ベクトルをそれぞれ返す\r\n",
        "        e, e_v = np.linalg.eigh(self.S)\r\n",
        "        if mode=='canonical':\r\n",
        "            #正準直交化\r\n",
        "            for i in range(self.num_AO):\r\n",
        "                for j in range(self.num_AO):\r\n",
        "                    X[i,j] = e_v[i,j] / np.sqrt(e[j])\r\n",
        "        elif mode=='symmetric':\r\n",
        "            #対称直交化\r\n",
        "            regular_matrix = np.zeros(self.S.shape)\r\n",
        "            for i in range(len(e)):\r\n",
        "                regular_matrix[i,i] = 1/np.sqrt(e[i])\r\n",
        "            X = e_v.dot(regular_matrix.dot(np.conjugate(e_v)))\r\n",
        "        return X\r\n",
        "    \r\n",
        "    def update_P_matrix(self, P, C):\r\n",
        "        '''\r\n",
        "        parameter P: density matrix\r\n",
        "        parameter C_dash: X*C(C: regular matrix computed from Fock matrix)\r\n",
        "        return: updated density matrix\r\n",
        "        '''\r\n",
        "        new_P = np.zeros(P.shape)\r\n",
        "        ### 占有軌道の数\r\n",
        "        num_occupied_orbital = self.num_elec // 2 \r\n",
        "        for i in range(self.num_AO):\r\n",
        "            for j in range(self.num_AO):\r\n",
        "                tmp = 0\r\n",
        "                for k in range(num_occupied_orbital):\r\n",
        "                    tmp += 2*(C[i,k]*C[j,k])\r\n",
        "                new_P[i,j] = tmp\r\n",
        "        return new_P\r\n",
        "\r\n",
        "    def compute_term_2_elec_integral(self, P: np.array):\r\n",
        "        '''\r\n",
        "        2電子積分(self.two_elec_integral)がエルミート行列であることを確認\r\n",
        "        '''\r\n",
        "        new_G = np.zeros((self.num_AO,self.num_AO))\r\n",
        "\r\n",
        "        for i in range(self.num_AO):\r\n",
        "            for j in range(self.num_AO):\r\n",
        "                for k in range(self.num_AO):\r\n",
        "                    for l in range(self.num_AO):\r\n",
        "                        J = self.two_elec_integral[i][j][k][l]\r\n",
        "                        K = 0.5 * self.two_elec_integral[i][l][k][j]\r\n",
        "                        new_G[i,j] += P[k,l]*(J-K)\r\n",
        "        return new_G\r\n",
        "\r\n",
        "    def judge_scf_end(self, new_P: np.array, P: np.array):\r\n",
        "        '''\r\n",
        "        parameter P: density matrix\r\n",
        "        return: T/F (if True: Finish SCF loops)\r\n",
        "        '''\r\n",
        "        THRESHOLD=1e-4\r\n",
        "        diff_val = 0.5 * ((new_P-P)**2).sum()\r\n",
        "        do_finish = False\r\n",
        "        if diff_val < THRESHOLD:\r\n",
        "            do_finish = True\r\n",
        "        return do_finish\r\n",
        "\r\n",
        "    def scf(self):\r\n",
        "        X = self.compute_transformation_matrix()\r\n",
        "        X_adj = np.matrix.getH(X) #共役転置行列を得る\r\n",
        "        P = np.zeros(self.S.shape)\r\n",
        "        MAX_ITER = 100\r\n",
        "\r\n",
        "        for n_iter in range(MAX_ITER):\r\n",
        "            print('-'*50)\r\n",
        "            print(f\"ITERATION={n_iter+1}/{MAX_ITER}\")\r\n",
        "            G = self.compute_term_2_elec_integral(P)\r\n",
        "            Fock = self.Hcore + G\r\n",
        "            Fock_dash = X_adj.dot(Fock.dot(X))\r\n",
        "            eigen_val, C_dash = np.linalg.eigh(Fock_dash)\r\n",
        "            C = X.dot(C_dash)\r\n",
        "            new_P = self.update_P_matrix(P, C)\r\n",
        "\r\n",
        "            #参考: https://qiita.com/hatori_hoku/items/867fa793488ebe1d2beb\r\n",
        "            energy = (new_P * (self.Hcore + Fock)).sum() * 0.5 \r\n",
        "            print(f'Electronic Energy = {energy} hartrees')\r\n",
        "            do_finish = self.judge_scf_end(new_P, P)\r\n",
        "            if do_finish:\r\n",
        "                print('\\nFinish SCF Calculation\\n')\r\n",
        "                print('\\nComputed Density Matrix')\r\n",
        "                print(new_P)\r\n",
        "                print('-'*50)\r\n",
        "                break\r\n",
        "            P = new_P\r\n",
        "            print('-'*50, '\\n'*3)"
      ],
      "execution_count": 2,
      "outputs": []
    },
    {
      "cell_type": "code",
      "metadata": {
        "id": "htgjmkZXTG0Y"
      },
      "source": [
        "num_AO = 2\r\n",
        "Hcore = np.zeros((num_AO, num_AO))\r\n",
        "Hcore[0,0] = Hcore[1,1] = (0.7600 + (-1.2266) + (-0.6538))\r\n",
        "Hcore[1,0] = Hcore[0,1] = 0.2365 + (-0.5974) + (-0.5974)\r\n",
        "\r\n",
        "S = np.zeros((num_AO, num_AO))\r\n",
        "S[0,0] = S[1,1] = 1\r\n",
        "S[0,1] = S[1,0] = 0.6593\r\n",
        "\r\n",
        "two_elec_integral_matrix = np.zeros((num_AO, num_AO, num_AO, num_AO))\r\n",
        "two_elec_integral_matrix[0][0][0][0] = two_elec_integral_matrix[1][1][1][1] = 0.7746\r\n",
        "two_elec_integral_matrix[1][1][0][0] = two_elec_integral_matrix[0][0][1][1] = 0.5697\r\n",
        "two_elec_integral_matrix[1][0][0][0] = two_elec_integral_matrix[0][0][0][1] = two_elec_integral_matrix[0][0][1][0] = two_elec_integral_matrix[0][1][0][0] = 0.4441\r\n",
        "two_elec_integral_matrix[1][1][1][0] = two_elec_integral_matrix[0][1][1][1] = two_elec_integral_matrix[1][1][0][1] = two_elec_integral_matrix[1][0][1][1] = 0.4441\r\n",
        "two_elec_integral_matrix[1][0][1][0] = two_elec_integral_matrix[0][1][0][1] = two_elec_integral_matrix[0][1][1][0] = two_elec_integral_matrix[1][0][0][1] = 0.2970"
      ],
      "execution_count": 3,
      "outputs": []
    },
    {
      "cell_type": "code",
      "metadata": {
        "id": "COXdD38mTBrB"
      },
      "source": [
        "solver = SCFSolver(Hcore=Hcore, S=S, two_elec_integral=two_elec_integral_matrix, num_elec=2, num_AO=2)"
      ],
      "execution_count": 4,
      "outputs": []
    },
    {
      "cell_type": "code",
      "metadata": {
        "colab": {
          "base_uri": "https://localhost:8080/"
        },
        "id": "WTtFXkllVREe",
        "outputId": "60bdac42-ba05-4e50-831f-566062f48028"
      },
      "source": [
        "solver.scf()"
      ],
      "execution_count": 5,
      "outputs": [
        {
          "output_type": "stream",
          "text": [
            "--------------------------------------------------\n",
            "ITERATION=1/100\n",
            "Electronic Energy = -2.5055143735310073 hartrees\n",
            "-------------------------------------------------- \n",
            "\n",
            "\n",
            "\n",
            "--------------------------------------------------\n",
            "ITERATION=2/100\n",
            "Electronic Energy = -1.830918121848344 hartrees\n",
            "\n",
            "Finish SCF Calculation\n",
            "\n",
            "\n",
            "Computed Density Matrix\n",
            "[[0.60266377 0.60266377]\n",
            " [0.60266377 0.60266377]]\n",
            "--------------------------------------------------\n"
          ],
          "name": "stdout"
        }
      ]
    },
    {
      "cell_type": "markdown",
      "metadata": {
        "id": "cT_L9HJetFt0"
      },
      "source": [
        "上のComputed Density Matrixの値は1/(1+S)の値に等しい(Sは電子1,2の重なり積分の値で0.6593)"
      ]
    },
    {
      "cell_type": "code",
      "metadata": {
        "id": "qHONXuSJVYqj"
      },
      "source": [
        ""
      ],
      "execution_count": 5,
      "outputs": []
    },
    {
      "cell_type": "code",
      "metadata": {
        "id": "ePAS7kbym4WL"
      },
      "source": [
        "'''\r\n",
        "A.Szabo, N.S.Ostlund '新しい量子化学上巻', 巻末より引用\r\n",
        "'''\r\n",
        "Hcore = np.zeros((num_AO, num_AO))\r\n",
        "T11 = 2.164313\r\n",
        "T12 = 0.167013\r\n",
        "T21 = T12\r\n",
        "T22 = 0.760033\r\n",
        "\r\n",
        "V11A = -4.139827\r\n",
        "V12A = -1.102912\r\n",
        "V21A = V12A\r\n",
        "V22A = -1.265246\r\n",
        "\r\n",
        "V11B = -0.677230\r\n",
        "V12B = -0.411305\r\n",
        "V21B = V12B\r\n",
        "V22B = -1.226615\r\n",
        "\r\n",
        "Hcore[0,0] = T11 + V11A + V11B \r\n",
        "Hcore[0,1] = Hcore[1,0] = T12 + V12A + V12B\r\n",
        "Hcore[1,1] = T22 + V22A + V22B\r\n",
        "\r\n",
        "S = np.zeros((num_AO, num_AO))  # Overlap matrix\r\n",
        "S[0,0] = S[1,1] = 1\r\n",
        "S[0,1] = S[1,0] = 0.45077\r\n",
        "\r\n",
        "two_elec_integral_matrix = np.zeros((num_AO, num_AO, num_AO, num_AO))\r\n",
        "\r\n",
        "V1111 = 1.307152 \r\n",
        "V2111 = 0.437279\r\n",
        "V2121 = 0.177267 \r\n",
        "V2211 = 0.605703 \r\n",
        "V2221 = 0.311795 \r\n",
        "V2222 = 0.774608\r\n",
        "\r\n",
        "two_elec_integral_matrix[0][0][0][0] = V1111\r\n",
        "two_elec_integral_matrix[0][0][1][1] = two_elec_integral_matrix[1][1][0][0] = V2211\r\n",
        "two_elec_integral_matrix[0][0][0][1] = two_elec_integral_matrix[0][0][1][0] = two_elec_integral_matrix[0][1][0][0] = two_elec_integral_matrix[1][0][0][0] = V2111\r\n",
        "two_elec_integral_matrix[0][1][0][1] = two_elec_integral_matrix[0][1][1][0] = two_elec_integral_matrix[1][0][0][1] = two_elec_integral_matrix[1][0][1][0] = V2121\r\n",
        "two_elec_integral_matrix[0][1][1][1] = two_elec_integral_matrix[1][0][1][1] = two_elec_integral_matrix[1][1][0][1] = two_elec_integral_matrix[1][1][1][0] = V2221\r\n",
        "two_elec_integral_matrix[1][1][1][1] = V2222"
      ],
      "execution_count": 6,
      "outputs": []
    },
    {
      "cell_type": "code",
      "metadata": {
        "id": "rDP-6sGAqij6"
      },
      "source": [
        "solver = SCFSolver(Hcore=Hcore, S=S, two_elec_integral=two_elec_integral_matrix, num_elec=2, num_AO=2)"
      ],
      "execution_count": 7,
      "outputs": []
    },
    {
      "cell_type": "code",
      "metadata": {
        "colab": {
          "base_uri": "https://localhost:8080/"
        },
        "id": "F2Ovg8p2q4Ac",
        "outputId": "732ff339-f701-4c9e-f92b-430fcddc0db2"
      },
      "source": [
        "solver.scf()"
      ],
      "execution_count": 8,
      "outputs": [
        {
          "output_type": "stream",
          "text": [
            "--------------------------------------------------\n",
            "ITERATION=1/100\n",
            "Electronic Energy = -5.348170796777179 hartrees\n",
            "-------------------------------------------------- \n",
            "\n",
            "\n",
            "\n",
            "--------------------------------------------------\n",
            "ITERATION=2/100\n",
            "Electronic Energy = -4.143489094522493 hartrees\n",
            "-------------------------------------------------- \n",
            "\n",
            "\n",
            "\n",
            "--------------------------------------------------\n",
            "ITERATION=3/100\n",
            "Electronic Energy = -4.2189015868815645 hartrees\n",
            "-------------------------------------------------- \n",
            "\n",
            "\n",
            "\n",
            "--------------------------------------------------\n",
            "ITERATION=4/100\n",
            "Electronic Energy = -4.226857722919284 hartrees\n",
            "\n",
            "Finish SCF Calculation\n",
            "\n",
            "\n",
            "Computed Density Matrix\n",
            "[[1.28642446 0.54003971]\n",
            " [0.54003971 0.22670814]]\n",
            "--------------------------------------------------\n"
          ],
          "name": "stdout"
        }
      ]
    },
    {
      "cell_type": "code",
      "metadata": {
        "id": "TP4DGD-vq5ju"
      },
      "source": [
        ""
      ],
      "execution_count": 42,
      "outputs": []
    }
  ]
}